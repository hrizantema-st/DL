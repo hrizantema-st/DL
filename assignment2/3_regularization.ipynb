{
 "cells": [
  {
   "cell_type": "markdown",
   "metadata": {
    "colab_type": "text",
    "id": "kR-4eNdK6lYS"
   },
   "source": [
    "Deep Learning\n",
    "=============\n",
    "\n",
    "Assignment 3\n",
    "------------\n",
    "\n",
    "Previously in `2_fullyconnected.ipynb`, you trained a logistic regression and a neural network model.\n",
    "\n",
    "The goal of this assignment is to explore regularization techniques."
   ]
  },
  {
   "cell_type": "code",
   "execution_count": 1,
   "metadata": {
    "cellView": "both",
    "colab": {
     "autoexec": {
      "startup": false,
      "wait_interval": 0
     }
    },
    "colab_type": "code",
    "id": "JLpLa8Jt7Vu4"
   },
   "outputs": [],
   "source": [
    "# These are all the modules we'll be using later. Make sure you can import them\n",
    "# before proceeding further.\n",
    "from __future__ import print_function\n",
    "import numpy as np\n",
    "import tensorflow as tf\n",
    "from six.moves import cPickle as pickle"
   ]
  },
  {
   "cell_type": "markdown",
   "metadata": {
    "colab_type": "text",
    "id": "1HrCK6e17WzV"
   },
   "source": [
    "First reload the data we generated in `1_notmnist.ipynb`."
   ]
  },
  {
   "cell_type": "code",
   "execution_count": 2,
   "metadata": {
    "cellView": "both",
    "colab": {
     "autoexec": {
      "startup": false,
      "wait_interval": 0
     },
     "output_extras": [
      {
       "item_id": 1
      }
     ]
    },
    "colab_type": "code",
    "executionInfo": {
     "elapsed": 11777,
     "status": "ok",
     "timestamp": 1449849322348,
     "user": {
      "color": "",
      "displayName": "",
      "isAnonymous": false,
      "isMe": true,
      "permissionId": "",
      "photoUrl": "",
      "sessionId": "0",
      "userId": ""
     },
     "user_tz": 480
    },
    "id": "y3-cj1bpmuxc",
    "outputId": "e03576f1-ebbe-4838-c388-f1777bcc9873"
   },
   "outputs": [
    {
     "name": "stdout",
     "output_type": "stream",
     "text": [
      "Training set (200000, 28, 28) (200000,)\n",
      "Validation set (10000, 28, 28) (10000,)\n",
      "Test set (10000, 28, 28) (10000,)\n"
     ]
    }
   ],
   "source": [
    "pickle_file = 'notMNIST.pickle'\n",
    "\n",
    "with open(pickle_file, 'rb') as f:\n",
    "  save = pickle.load(f)\n",
    "  train_dataset = save['train_dataset']\n",
    "  train_labels = save['train_labels']\n",
    "  valid_dataset = save['valid_dataset']\n",
    "  valid_labels = save['valid_labels']\n",
    "  test_dataset = save['test_dataset']\n",
    "  test_labels = save['test_labels']\n",
    "  del save  # hint to help gc free up memory\n",
    "  print('Training set', train_dataset.shape, train_labels.shape)\n",
    "  print('Validation set', valid_dataset.shape, valid_labels.shape)\n",
    "  print('Test set', test_dataset.shape, test_labels.shape)"
   ]
  },
  {
   "cell_type": "markdown",
   "metadata": {
    "colab_type": "text",
    "id": "L7aHrm6nGDMB"
   },
   "source": [
    "Reformat into a shape that's more adapted to the models we're going to train:\n",
    "- data as a flat matrix,\n",
    "- labels as float 1-hot encodings."
   ]
  },
  {
   "cell_type": "code",
   "execution_count": 3,
   "metadata": {
    "cellView": "both",
    "colab": {
     "autoexec": {
      "startup": false,
      "wait_interval": 0
     },
     "output_extras": [
      {
       "item_id": 1
      }
     ]
    },
    "colab_type": "code",
    "executionInfo": {
     "elapsed": 11728,
     "status": "ok",
     "timestamp": 1449849322356,
     "user": {
      "color": "",
      "displayName": "",
      "isAnonymous": false,
      "isMe": true,
      "permissionId": "",
      "photoUrl": "",
      "sessionId": "0",
      "userId": ""
     },
     "user_tz": 480
    },
    "id": "IRSyYiIIGIzS",
    "outputId": "3f8996ee-3574-4f44-c953-5c8a04636582"
   },
   "outputs": [
    {
     "name": "stdout",
     "output_type": "stream",
     "text": [
      "Training set (200000, 784) (200000, 10)\n",
      "Validation set (10000, 784) (10000, 10)\n",
      "Test set (10000, 784) (10000, 10)\n"
     ]
    }
   ],
   "source": [
    "image_size = 28\n",
    "num_labels = 10\n",
    "\n",
    "def reformat(dataset, labels):\n",
    "  dataset = dataset.reshape((-1, image_size * image_size)).astype(np.float32)\n",
    "  # Map 1 to [0.0, 1.0, 0.0 ...], 2 to [0.0, 0.0, 1.0 ...]\n",
    "  labels = (np.arange(num_labels) == labels[:,None]).astype(np.float32)\n",
    "  return dataset, labels\n",
    "train_dataset, train_labels = reformat(train_dataset, train_labels)\n",
    "valid_dataset, valid_labels = reformat(valid_dataset, valid_labels)\n",
    "test_dataset, test_labels = reformat(test_dataset, test_labels)\n",
    "print('Training set', train_dataset.shape, train_labels.shape)\n",
    "print('Validation set', valid_dataset.shape, valid_labels.shape)\n",
    "print('Test set', test_dataset.shape, test_labels.shape)"
   ]
  },
  {
   "cell_type": "code",
   "execution_count": 4,
   "metadata": {
    "cellView": "both",
    "colab": {
     "autoexec": {
      "startup": false,
      "wait_interval": 0
     }
    },
    "colab_type": "code",
    "id": "RajPLaL_ZW6w"
   },
   "outputs": [],
   "source": [
    "def accuracy(predictions, labels):\n",
    "  return (100.0 * np.sum(np.argmax(predictions, 1) == np.argmax(labels, 1))\n",
    "          / predictions.shape[0])"
   ]
  },
  {
   "cell_type": "markdown",
   "metadata": {
    "colab_type": "text",
    "id": "sgLbUAQ1CW-1"
   },
   "source": [
    "---\n",
    "Problem 1\n",
    "---------\n",
    "\n",
    "Introduce and tune L2 regularization for both logistic and neural network models. Remember that L2 amounts to adding a penalty on the norm of the weights to the loss. In TensorFlow, you can compute the L2 loss for a tensor `t` using `nn.l2_loss(t)`. The right amount of regularization should improve your validation / test accuracy.\n",
    "\n",
    "---"
   ]
  },
  {
   "cell_type": "code",
   "execution_count": 11,
   "metadata": {},
   "outputs": [],
   "source": [
    "alpha = 0.01\n",
    "batch_size = 128\n",
    "\n",
    "graph = tf.Graph()\n",
    "with graph.as_default():\n",
    "\n",
    "  # Input data.\n",
    "  tf_train_dataset = tf.placeholder(tf.float32,\n",
    "                                    shape=(batch_size, image_size * image_size))\n",
    "  tf_train_labels = tf.placeholder(tf.float32, shape=(batch_size, num_labels))\n",
    "  tf_valid_dataset = tf.constant(valid_dataset)\n",
    "  tf_test_dataset = tf.constant(test_dataset)\n",
    "  \n",
    "  # Variables.\n",
    "  weights = tf.Variable(\n",
    "    tf.truncated_normal([image_size * image_size, num_labels]))\n",
    "  biases = tf.Variable(tf.zeros([num_labels]))\n",
    "  \n",
    "  # Training computation.\n",
    "  logits = tf.matmul(tf_train_dataset, weights) + biases\n",
    "  loss = tf.reduce_mean(\n",
    "    tf.nn.softmax_cross_entropy_with_logits(labels=tf_train_labels, logits=logits))\n",
    "  loss = tf.reduce_mean(loss + alpha*tf.nn.l2_loss(weights))\n",
    "  \n",
    "  # Optimizer.  \n",
    "  optimizer = tf.train.GradientDescentOptimizer(0.5).minimize(loss)\n",
    "  \n",
    "  # Predictions for the training, validation, and test data.\n",
    "  train_prediction = tf.nn.softmax(logits)\n",
    "  valid_prediction = tf.nn.softmax(\n",
    "    tf.matmul(tf_valid_dataset, weights) + biases)\n",
    "  test_prediction = tf.nn.softmax(tf.matmul(tf_test_dataset, weights) + biases)"
   ]
  },
  {
   "cell_type": "code",
   "execution_count": 12,
   "metadata": {},
   "outputs": [
    {
     "name": "stdout",
     "output_type": "stream",
     "text": [
      "Initialized\n",
      "Minibatch loss at step 0: 45.638031\n",
      "Minibatch accuracy: 9.4%\n",
      "Validation accuracy: 13.6%\n",
      "Minibatch loss at step 500: 0.765295\n",
      "Minibatch accuracy: 88.3%\n",
      "Validation accuracy: 82.0%\n",
      "Minibatch loss at step 1000: 0.597345\n",
      "Minibatch accuracy: 87.5%\n",
      "Validation accuracy: 81.0%\n",
      "Minibatch loss at step 1500: 0.778516\n",
      "Minibatch accuracy: 82.0%\n",
      "Validation accuracy: 80.9%\n",
      "Minibatch loss at step 2000: 0.815655\n",
      "Minibatch accuracy: 80.5%\n",
      "Validation accuracy: 82.1%\n",
      "Minibatch loss at step 2500: 0.830631\n",
      "Minibatch accuracy: 78.9%\n",
      "Validation accuracy: 81.2%\n",
      "Minibatch loss at step 3000: 0.600832\n",
      "Minibatch accuracy: 82.8%\n",
      "Validation accuracy: 81.9%\n",
      "Test accuracy: 88.1%\n"
     ]
    }
   ],
   "source": [
    "num_steps = 3001\n",
    "\n",
    "with tf.Session(graph=graph) as session:\n",
    "  tf.global_variables_initializer().run()\n",
    "  print(\"Initialized\")\n",
    "  for step in range(num_steps):\n",
    "    # Pick an offset within the training data, which has been randomized.\n",
    "    offset = (step * batch_size) % (train_labels.shape[0] - batch_size)\n",
    "    # Generate a minibatch.\n",
    "    batch_data = train_dataset[offset:(offset + batch_size), :]\n",
    "    batch_labels = train_labels[offset:(offset + batch_size), :]\n",
    "    # Prepare a dictionary telling the session where to feed the minibatch.\n",
    "    # The key of the dictionary is the placeholder node of the graph to be fed,\n",
    "    # and the value is the numpy array to feed to it.\n",
    "    feed_dict = {tf_train_dataset : batch_data, tf_train_labels : batch_labels}\n",
    "    _, l, predictions = session.run(\n",
    "      [optimizer, loss, train_prediction], feed_dict=feed_dict)\n",
    "    if (step % 500 == 0):\n",
    "      print(\"Minibatch loss at step %d: %f\" % (step, l))\n",
    "      print(\"Minibatch accuracy: %.1f%%\" % accuracy(predictions, batch_labels))\n",
    "      print(\"Validation accuracy: %.1f%%\" % accuracy(\n",
    "        valid_prediction.eval(), valid_labels))\n",
    "  print(\"Test accuracy: %.1f%%\" % accuracy(test_prediction.eval(), test_labels))"
   ]
  },
  {
   "cell_type": "code",
   "execution_count": 13,
   "metadata": {},
   "outputs": [],
   "source": [
    "batch_size = 128\n",
    "\n",
    "graph = tf.Graph()\n",
    "with graph.as_default():\n",
    "\n",
    "  # Input data.\n",
    "  tf_train_dataset = tf.placeholder(tf.float32,\n",
    "                                    shape=(batch_size, image_size * image_size))\n",
    "  tf_train_labels = tf.placeholder(tf.float32, shape=(batch_size, num_labels))\n",
    "  tf_valid_dataset = tf.constant(valid_dataset)\n",
    "  tf_test_dataset = tf.constant(test_dataset)\n",
    "  \n",
    "  # Variables.\n",
    "  W1 = tf.Variable(tf.truncated_normal([image_size * image_size, 1024] ,stddev=0.1))\n",
    "  B1 = tf.Variable(tf.zeros([1024]))\n",
    "\n",
    "  W2 = tf.Variable(tf.truncated_normal([1024, num_labels]))\n",
    "  B2 = tf.Variable(tf.zeros([num_labels]))\n",
    "  \n",
    "  # Training computation.\n",
    "  logits = tf.matmul(tf_train_dataset, W1) + B1\n",
    "  Y1 = tf.nn.relu(logits)\n",
    "  logits2 = tf.matmul(Y1, W2) + B2\n",
    "  loss = tf.reduce_mean(\n",
    "    tf.nn.softmax_cross_entropy_with_logits(labels=tf_train_labels, logits=logits2)) \n",
    "  loss += + alpha*tf.nn.l2_loss(W1) + + alpha*tf.nn.l2_loss(W2)\n",
    "    \n",
    "  # Optimizer.\n",
    "  optimizer = tf.train.GradientDescentOptimizer(0.5).minimize(loss)\n",
    "  \n",
    "  train_prediction = tf.nn.softmax(logits2)\n",
    "  valid_prediction = tf.nn.softmax(tf.matmul(tf.nn.relu(tf.matmul(tf_valid_dataset, W1) + B1), W2) + B2)\n",
    "  test_prediction = tf.nn.softmax(tf.matmul(tf.nn.relu(tf.matmul(tf_test_dataset, W1) + B1), W2) + B2)"
   ]
  },
  {
   "cell_type": "code",
   "execution_count": 14,
   "metadata": {},
   "outputs": [
    {
     "name": "stdout",
     "output_type": "stream",
     "text": [
      "Initialized\n",
      "Minibatch loss at step 0: 109.285492\n",
      "Minibatch accuracy: 4.7%\n",
      "Validation accuracy: 37.0%\n",
      "Minibatch loss at step 500: 1.006268\n",
      "Minibatch accuracy: 91.4%\n",
      "Validation accuracy: 84.2%\n",
      "Minibatch loss at step 1000: 0.587496\n",
      "Minibatch accuracy: 88.3%\n",
      "Validation accuracy: 83.4%\n",
      "Minibatch loss at step 1500: 0.701778\n",
      "Minibatch accuracy: 85.2%\n",
      "Validation accuracy: 84.2%\n",
      "Minibatch loss at step 2000: 0.722973\n",
      "Minibatch accuracy: 83.6%\n",
      "Validation accuracy: 84.6%\n",
      "Minibatch loss at step 2500: 0.721177\n",
      "Minibatch accuracy: 83.6%\n",
      "Validation accuracy: 84.5%\n",
      "Minibatch loss at step 3000: 0.600424\n",
      "Minibatch accuracy: 85.2%\n",
      "Validation accuracy: 84.7%\n",
      "Test accuracy: 90.5%\n"
     ]
    }
   ],
   "source": [
    "num_steps = 3001\n",
    "\n",
    "with tf.Session(graph=graph) as session:\n",
    "  tf.global_variables_initializer().run()\n",
    "  print(\"Initialized\")\n",
    "  for step in range(num_steps):\n",
    "    # Pick an offset within the training data, which has been randomized.\n",
    "    # Note: we could use better randomization across epochs.\n",
    "    offset = (step * batch_size) % (train_labels.shape[0] - batch_size)\n",
    "    # Generate a minibatch.\n",
    "    batch_data = train_dataset[offset:(offset + batch_size), :]\n",
    "    batch_labels = train_labels[offset:(offset + batch_size), :]\n",
    "    # Prepare a dictionary telling the session where to feed the minibatch.\n",
    "    # The key of the dictionary is the placeholder node of the graph to be fed,\n",
    "    # and the value is the numpy array to feed to it.\n",
    "    feed_dict = {tf_train_dataset : batch_data, tf_train_labels : batch_labels}\n",
    "    _, l, predictions = session.run(\n",
    "      [optimizer, loss, train_prediction], feed_dict=feed_dict)\n",
    "    if (step % 500 == 0):\n",
    "      print(\"Minibatch loss at step %d: %f\" % (step, l))\n",
    "      print(\"Minibatch accuracy: %.1f%%\" % accuracy(predictions, batch_labels))\n",
    "      print(\"Validation accuracy: %.1f%%\" % accuracy(\n",
    "        valid_prediction.eval(), valid_labels))\n",
    "  print(\"Test accuracy: %.1f%%\" % accuracy(test_prediction.eval(), test_labels))"
   ]
  },
  {
   "cell_type": "markdown",
   "metadata": {
    "colab_type": "text",
    "id": "na8xX2yHZzNF"
   },
   "source": [
    "---\n",
    "Problem 2\n",
    "---------\n",
    "Let's demonstrate an extreme case of overfitting. Restrict your training data to just a few batches. What happens?\n",
    "\n",
    "---"
   ]
  },
  {
   "cell_type": "code",
   "execution_count": 15,
   "metadata": {},
   "outputs": [
    {
     "name": "stdout",
     "output_type": "stream",
     "text": [
      "Initialized\n",
      "Minibatch loss at step 0: 106.526802\n",
      "Minibatch accuracy: 3.1%\n",
      "Validation accuracy: 38.6%\n",
      "Minibatch loss at step 500: 0.747726\n",
      "Minibatch accuracy: 100.0%\n",
      "Validation accuracy: 79.2%\n",
      "Minibatch loss at step 1000: 0.316662\n",
      "Minibatch accuracy: 100.0%\n",
      "Validation accuracy: 79.2%\n",
      "Minibatch loss at step 1500: 0.279229\n",
      "Minibatch accuracy: 100.0%\n",
      "Validation accuracy: 79.2%\n",
      "Minibatch loss at step 2000: 0.266537\n",
      "Minibatch accuracy: 100.0%\n",
      "Validation accuracy: 79.0%\n",
      "Minibatch loss at step 2500: 0.262954\n",
      "Minibatch accuracy: 100.0%\n",
      "Validation accuracy: 79.0%\n",
      "Minibatch loss at step 3000: 0.260373\n",
      "Minibatch accuracy: 100.0%\n",
      "Validation accuracy: 78.8%\n",
      "Test accuracy: 86.1%\n"
     ]
    }
   ],
   "source": [
    "train_dataset_small = train_dataset[:500, :]\n",
    "train_labels_small = train_labels[:500]\n",
    "num_steps = 3001 \n",
    "\n",
    "with tf.Session(graph=graph) as session:\n",
    "  tf.global_variables_initializer().run()\n",
    "  print(\"Initialized\")\n",
    "  for step in range(num_steps):\n",
    "    # Pick an offset within the training data, which has been randomized.\n",
    "    # Note: we could use better randomization across epochs.\n",
    "    offset = (step * batch_size) % (train_labels_small.shape[0] - batch_size)\n",
    "    # Generate a minibatch.\n",
    "    batch_data = train_dataset_small[offset:(offset + batch_size), :]\n",
    "    batch_labels = train_labels_small[offset:(offset + batch_size), :]\n",
    "    # Prepare a dictionary telling the session where to feed the minibatch.\n",
    "    # The key of the dictionary is the placeholder node of the graph to be fed,\n",
    "    # and the value is the numpy array to feed to it.\n",
    "    feed_dict = {tf_train_dataset : batch_data, tf_train_labels : batch_labels}\n",
    "    _, l, predictions = session.run(\n",
    "      [optimizer, loss, train_prediction], feed_dict=feed_dict)\n",
    "    if (step % 500 == 0):\n",
    "      print(\"Minibatch loss at step %d: %f\" % (step, l))\n",
    "      print(\"Minibatch accuracy: %.1f%%\" % accuracy(predictions, batch_labels))\n",
    "      print(\"Validation accuracy: %.1f%%\" % accuracy(\n",
    "        valid_prediction.eval(), valid_labels))\n",
    "  print(\"Test accuracy: %.1f%%\" % accuracy(test_prediction.eval(), test_labels))"
   ]
  },
  {
   "cell_type": "raw",
   "metadata": {},
   "source": [
    "We can observe that using smaller training dataset we get almost 100% of training accuracy but the validation accuracy is lower (below 78%) which lead us to the canclusion that the neural net is overfitting to the training data because of its small size."
   ]
  },
  {
   "cell_type": "markdown",
   "metadata": {
    "colab_type": "text",
    "id": "ww3SCBUdlkRc"
   },
   "source": [
    "---\n",
    "Problem 3\n",
    "---------\n",
    "Introduce Dropout on the hidden layer of the neural network. Remember: Dropout should only be introduced during training, not evaluation, otherwise your evaluation results would be stochastic as well. TensorFlow provides `nn.dropout()` for that, but you have to make sure it's only inserted during training.\n",
    "\n",
    "What happens to our extreme overfitting case?\n",
    "\n",
    "---"
   ]
  },
  {
   "cell_type": "code",
   "execution_count": 16,
   "metadata": {},
   "outputs": [],
   "source": [
    "batch_size = 128\n",
    "\n",
    "graph = tf.Graph()\n",
    "with graph.as_default():\n",
    "\n",
    "  # Input data. For the training data, we use a placeholder that will be fed\n",
    "  # at run time with a training minibatch.\n",
    "  tf_train_dataset = tf.placeholder(tf.float32,\n",
    "                                    shape=(batch_size, image_size * image_size))\n",
    "  tf_train_labels = tf.placeholder(tf.float32, shape=(batch_size, num_labels))\n",
    "  tf_valid_dataset = tf.constant(valid_dataset)\n",
    "  tf_test_dataset = tf.constant(test_dataset)\n",
    "  \n",
    "  pkeep = tf.placeholder(tf.float32)\n",
    "    \n",
    "  # Variables.\n",
    "  W1 = tf.Variable(tf.truncated_normal([image_size * image_size, 1024] ,stddev=0.1))\n",
    "  B1 = tf.Variable(tf.zeros([1024]))\n",
    "\n",
    "  W2 = tf.Variable(tf.truncated_normal([1024, num_labels]))\n",
    "  B2 = tf.Variable(tf.zeros([num_labels]))\n",
    "  \n",
    "  # Training computation.\n",
    "  logits1 = tf.matmul(tf_train_dataset, W1) + B1\n",
    "  Y1 = tf.nn.relu(logits1)\n",
    "  Y1d = tf.nn.dropout(Y1, pkeep)\n",
    "\n",
    "  logits2 = tf.matmul(Y1d, W2) + B2\n",
    "  loss = tf.reduce_mean(\n",
    "    tf.nn.softmax_cross_entropy_with_logits(labels=tf_train_labels, logits=logits2))\n",
    "  # Loss function with L2 Regularization with beta=0.01\n",
    "  l2_regularization = tf.nn.l2_loss(W1) + tf.nn.l2_loss(W2)\n",
    "  loss = tf.reduce_mean(loss + alpha * l2_regularization)\n",
    "  \n",
    "    # Optimizer.\n",
    "  optimizer = tf.train.GradientDescentOptimizer(0.5).minimize(loss)\n",
    "  \n",
    "  train_prediction = tf.nn.softmax(logits2)\n",
    "  valid_prediction = tf.nn.softmax(tf.matmul(tf.nn.relu(tf.matmul(tf_valid_dataset, W1) + B1), W2) + B2)\n",
    "  test_prediction = tf.nn.softmax(tf.matmul(tf.nn.relu(tf.matmul(tf_test_dataset, W1) + B1), W2) + B2)"
   ]
  },
  {
   "cell_type": "code",
   "execution_count": 17,
   "metadata": {},
   "outputs": [
    {
     "name": "stdout",
     "output_type": "stream",
     "text": [
      "Initialized\n",
      "Minibatch loss at step 0: 121.678795\n",
      "Minibatch accuracy: 6.2%\n",
      "Validation accuracy: 41.0%\n",
      "Minibatch loss at step 500: 1.099785\n",
      "Minibatch accuracy: 90.6%\n",
      "Validation accuracy: 83.7%\n",
      "Minibatch loss at step 1000: 0.670427\n",
      "Minibatch accuracy: 86.7%\n",
      "Validation accuracy: 82.9%\n",
      "Minibatch loss at step 1500: 0.816153\n",
      "Minibatch accuracy: 82.8%\n",
      "Validation accuracy: 83.7%\n",
      "Minibatch loss at step 2000: 0.766258\n",
      "Minibatch accuracy: 82.8%\n",
      "Validation accuracy: 83.9%\n",
      "Minibatch loss at step 2500: 0.812633\n",
      "Minibatch accuracy: 81.2%\n",
      "Validation accuracy: 84.1%\n",
      "Minibatch loss at step 3000: 0.685650\n",
      "Minibatch accuracy: 82.0%\n",
      "Validation accuracy: 84.2%\n",
      "Test accuracy: 90.0%\n"
     ]
    }
   ],
   "source": [
    "num_steps = 3001\n",
    "\n",
    "with tf.Session(graph=graph) as session:\n",
    "  tf.global_variables_initializer().run() #tf.initialize_all_variables().run()\n",
    "  print(\"Initialized\")\n",
    "  for step in range(num_steps):\n",
    "    # Pick an offset within the training data, which has been randomized.\n",
    "    # Note: we could use better randomization across epochs.\n",
    "    offset = (step * batch_size) % (train_labels.shape[0] - batch_size)\n",
    "    # Generate a minibatch.\n",
    "    batch_data = train_dataset[offset:(offset + batch_size), :]\n",
    "    batch_labels = train_labels[offset:(offset + batch_size), :]\n",
    "    # Prepare a dictionary telling the session where to feed the minibatch.\n",
    "    # The key of the dictionary is the placeholder node of the graph to be fed,\n",
    "    # and the value is the numpy array to feed to it.\n",
    "    feed_dict = {tf_train_dataset : batch_data, tf_train_labels : batch_labels, pkeep: 0.5}\n",
    "    _, l, predictions = session.run(\n",
    "      [optimizer, loss, train_prediction], feed_dict=feed_dict)\n",
    "    if (step % 500 == 0):\n",
    "      print(\"Minibatch loss at step %d: %f\" % (step, l))\n",
    "      print(\"Minibatch accuracy: %.1f%%\" % accuracy(predictions, batch_labels))\n",
    "      print(\"Validation accuracy: %.1f%%\" % accuracy(\n",
    "        valid_prediction.eval(), valid_labels))\n",
    "  print(\"Test accuracy: %.1f%%\" % accuracy(test_prediction.eval(), test_labels))"
   ]
  },
  {
   "cell_type": "markdown",
   "metadata": {
    "colab_type": "text",
    "id": "-b1hTz3VWZjw"
   },
   "source": [
    "---\n",
    "Problem 4\n",
    "---------\n",
    "\n",
    "Try to get the best performance you can using a multi-layer model! The best reported test accuracy using a deep network is [97.1%](http://yaroslavvb.blogspot.com/2011/09/notmnist-dataset.html?showComment=1391023266211#c8758720086795711595).\n",
    "\n",
    "One avenue you can explore is to add multiple layers.\n",
    "\n",
    "Another one is to use learning rate decay:\n",
    "\n",
    "    global_step = tf.Variable(0)  # count the number of steps taken.\n",
    "    learning_rate = tf.train.exponential_decay(0.5, global_step, ...)\n",
    "    optimizer = tf.train.GradientDescentOptimizer(learning_rate).minimize(loss, global_step=global_step)\n",
    " \n",
    " ---\n"
   ]
  },
  {
   "cell_type": "code",
   "execution_count": 47,
   "metadata": {},
   "outputs": [],
   "source": [
    "import math as math\n",
    "\n",
    "\n",
    "alpha = 0.002\n",
    "batch_size = 128\n",
    "\n",
    "n_layer_1 = 2048\n",
    "n_layer_2 = 1024\n",
    "n_layer_3 = 512\n",
    "n_layer_4 = 256\n",
    "\n",
    "graph = tf.Graph()\n",
    "with graph.as_default():\n",
    "\n",
    "  # Input data. For the training data, we use a placeholder that will be fed\n",
    "  # at run time with a training minibatch.\n",
    "  tf_train_dataset = tf.placeholder(tf.float32,\n",
    "                                    shape=(batch_size, image_size * image_size))\n",
    "  tf_train_labels = tf.placeholder(tf.float32, shape=(batch_size, num_labels))\n",
    "  tf_valid_dataset = tf.constant(valid_dataset)\n",
    "  tf_test_dataset = tf.constant(test_dataset)\n",
    "  \n",
    "  pkeep = tf.placeholder(tf.float32)\n",
    "    \n",
    "  # Variables.\n",
    "  W1 = tf.Variable(tf.truncated_normal([image_size * image_size, n_layer_1] ,stddev=math.sqrt(2.0/(image_size*image_size))))\n",
    "  B1 = tf.Variable(tf.zeros([n_layer_1]))\n",
    "\n",
    "  W2 = tf.Variable(tf.truncated_normal([n_layer_1, n_layer_2], stddev=math.sqrt(2.0/n_layer_1)))\n",
    "  B2 = tf.Variable(tf.zeros([n_layer_2]))\n",
    "  \n",
    "  W3 = tf.Variable(tf.truncated_normal([n_layer_2, n_layer_3], stddev=math.sqrt(2.0/n_layer_2)))\n",
    "  B3 = tf.Variable(tf.zeros([n_layer_3]))\n",
    "\n",
    "  W4 = tf.Variable(tf.truncated_normal([n_layer_3, n_layer_4], stddev=math.sqrt(2.0/n_layer_3)))\n",
    "  B4 = tf.Variable(tf.zeros([n_layer_4]))\n",
    "  \n",
    "  W5 = tf.Variable(tf.truncated_normal([n_layer_4, num_labels], stddev=math.sqrt(2.0/n_layer_4)))\n",
    "  B5 = tf.Variable(tf.zeros([num_labels]))\n",
    "                   \n",
    "  # Training computation.\n",
    "  Y1 = tf.nn.relu(tf.matmul(tf_train_dataset, W1) + B1)\n",
    "  Y1d = tf.nn.dropout(Y1, pkeep)\n",
    "                   \n",
    "  Y2 = tf.nn.relu(tf.matmul(Y1d, W2) + B2)\n",
    "  Y2d = tf.nn.dropout(Y2, pkeep)\n",
    "                   \n",
    "  Y3 = tf.nn.relu(tf.matmul(Y2d, W3) + B3)\n",
    "  Y3d = tf.nn.dropout(Y3, pkeep)     \n",
    "                                  \n",
    "  Y4 = tf.nn.relu(tf.matmul(Y3d, W4) + B4)\n",
    "  Y4d = tf.nn.dropout(Y4, pkeep)\n",
    "  \n",
    "  logits = tf.matmul(Y4d, W5) + B5\n",
    "  Y5 = tf.nn.softmax(logits)  \n",
    "                   \n",
    "  loss = tf.reduce_mean(\n",
    "    tf.nn.softmax_cross_entropy_with_logits(labels=tf_train_labels, logits=logits))\n",
    "  l2_regularization = tf.nn.l2_loss(W1) + tf.nn.l2_loss(W2) + tf.nn.l2_loss(W3) + \\\n",
    "    tf.nn.l2_loss(W4) + tf.nn.l2_loss(W5)\n",
    "  loss = tf.reduce_mean(loss + alpha * l2_regularization)\n",
    "    \n",
    "  # Optimizer\n",
    "  global_step = tf.Variable(0)  # count the number of steps taken.\n",
    "  # the learning rate is: # 0.0001 + 0.003 * (1/e)^(step/2000)), i.e. exponential decay from 0.003->0.0001\n",
    "  lr =  0.0001 + tf.train.exponential_decay(0.5, global_step, 5000, 1/math.e)\n",
    "  #learning_rate = tf.train.exponential_decay(0.5, global_step, 100000, 0.96, staircase=True)\n",
    "  optimizer = tf.train.GradientDescentOptimizer(lr).minimize(loss, global_step=global_step)\n",
    "\n",
    "\n",
    "  # Predictions for the training\n",
    "  train_prediction = tf.nn.softmax(logits)\n",
    "\n",
    "  # Predictions for validation \n",
    "  valid_logits_1 = tf.matmul(tf_valid_dataset, W1) + B1\n",
    "  valid_relu_1 = tf.nn.relu(valid_logits_1)\n",
    "    \n",
    "  valid_logits_2 = tf.matmul(valid_relu_1, W2) + B2\n",
    "  valid_relu_2 = tf.nn.relu(valid_logits_2)\n",
    "    \n",
    "  valid_logits_3 = tf.matmul(valid_relu_2, W3) + B3\n",
    "  valid_relu_3 = tf.nn.relu(valid_logits_3)\n",
    "    \n",
    "  valid_logits_4 = tf.matmul(valid_relu_3, W4) + B4\n",
    "  valid_relu_4 = tf.nn.relu(valid_logits_4)\n",
    "  \n",
    "  valid_logits_5 = tf.matmul(valid_relu_4, W5) + B5    \n",
    "  valid_prediction = tf.nn.softmax(valid_logits_5)\n",
    "    \n",
    "  # Predictions for test\n",
    "  test_logits_1 = tf.matmul(tf_test_dataset, W1) + B1\n",
    "  test_relu_1 = tf.nn.relu(test_logits_1)\n",
    "    \n",
    "  test_logits_2 = tf.matmul(test_relu_1, W2) + B2\n",
    "  test_relu_2 = tf.nn.relu(test_logits_2)\n",
    "   \n",
    "  test_logits_3 = tf.matmul(test_relu_2, W3) + B3\n",
    "  test_relu_3 = tf.nn.relu(test_logits_3)\n",
    "    \n",
    "  test_logits_4 = tf.matmul(test_relu_3, W4) + B4\n",
    "  test_relu_4 = tf.nn.relu(test_logits_4)\n",
    "    \n",
    "  test_logits_5 = tf.matmul(test_relu_4, W5) + B5\n",
    "  test_prediction = tf.nn.softmax(test_logits_5)\n",
    "  "
   ]
  },
  {
   "cell_type": "code",
   "execution_count": 48,
   "metadata": {},
   "outputs": [
    {
     "name": "stdout",
     "output_type": "stream",
     "text": [
      "Initialized\n",
      "Minibatch loss at step 0: 8.87366771697998\n",
      "Minibatch accuracy: 12.5\n",
      "Validation accuracy: 10.0\n",
      "Minibatch loss at step 500: 2.911520481109619\n",
      "Minibatch accuracy: 89.8\n",
      "Validation accuracy: 84.5\n",
      "Minibatch loss at step 1000: 1.5503265857696533\n",
      "Minibatch accuracy: 91.4\n",
      "Validation accuracy: 85.1\n",
      "Minibatch loss at step 1500: 1.1114579439163208\n",
      "Minibatch accuracy: 85.2\n",
      "Validation accuracy: 85.1\n",
      "Minibatch loss at step 2000: 0.9213698506355286\n",
      "Minibatch accuracy: 84.4\n",
      "Validation accuracy: 86.5\n",
      "Minibatch loss at step 2500: 0.7825955152511597\n",
      "Minibatch accuracy: 86.7\n",
      "Validation accuracy: 87.1\n",
      "Minibatch loss at step 3000: 0.6101261377334595\n",
      "Minibatch accuracy: 88.3\n",
      "Validation accuracy: 87.1\n",
      "Minibatch loss at step 3500: 0.6805579662322998\n",
      "Minibatch accuracy: 85.9\n",
      "Validation accuracy: 87.7\n",
      "Minibatch loss at step 4000: 0.6788914203643799\n",
      "Minibatch accuracy: 85.2\n",
      "Validation accuracy: 87.3\n",
      "Minibatch loss at step 4500: 0.7911598086357117\n",
      "Minibatch accuracy: 85.9\n",
      "Validation accuracy: 88.0\n",
      "Minibatch loss at step 5000: 0.6464170217514038\n",
      "Minibatch accuracy: 88.3\n",
      "Validation accuracy: 88.2\n",
      "Minibatch loss at step 5500: 0.5651172995567322\n",
      "Minibatch accuracy: 89.1\n",
      "Validation accuracy: 88.0\n",
      "Minibatch loss at step 6000: 0.3715667724609375\n",
      "Minibatch accuracy: 97.7\n",
      "Validation accuracy: 88.6\n",
      "Minibatch loss at step 6500: 0.6212590932846069\n",
      "Minibatch accuracy: 85.9\n",
      "Validation accuracy: 88.3\n",
      "Minibatch loss at step 7000: 0.6314138174057007\n",
      "Minibatch accuracy: 86.7\n",
      "Validation accuracy: 88.4\n",
      "Minibatch loss at step 7500: 0.6739697456359863\n",
      "Minibatch accuracy: 85.9\n",
      "Validation accuracy: 89.0\n",
      "Minibatch loss at step 8000: 0.5921581387519836\n",
      "Minibatch accuracy: 87.5\n",
      "Validation accuracy: 88.7\n",
      "Minibatch loss at step 8500: 0.6110742092132568\n",
      "Minibatch accuracy: 85.9\n",
      "Validation accuracy: 89.4\n",
      "Minibatch loss at step 9000: 0.5423175096511841\n",
      "Minibatch accuracy: 87.5\n",
      "Validation accuracy: 89.1\n",
      "Minibatch loss at step 9500: 0.5464006662368774\n",
      "Minibatch accuracy: 87.5\n",
      "Validation accuracy: 89.8\n",
      "Minibatch loss at step 10000: 0.6709005832672119\n",
      "Minibatch accuracy: 85.2\n",
      "Validation accuracy: 89.8\n",
      "Test accuracy: 94.7\n"
     ]
    }
   ],
   "source": [
    "num_steps = 10001\n",
    "\n",
    "with tf.Session(graph=graph) as session:\n",
    "    tf.initialize_all_variables().run()\n",
    "    print(\"Initialized\")\n",
    "    for step in range(num_steps):\n",
    "        # Pick an offset within the training data, which has been randomized.\n",
    "        # Note: we could use better randomization across epochs.\n",
    "        offset = (step * batch_size) % (train_labels.shape[0] - batch_size)\n",
    "        # Generate a minibatch.\n",
    "        batch_data = train_dataset[offset:(offset + batch_size), :]\n",
    "        batch_labels = train_labels[offset:(offset + batch_size), :]\n",
    "        # Prepare a dictionary telling the session where to feed the minibatch.\n",
    "        # The key of the dictionary is the placeholder node of the graph to be fed,\n",
    "        # and the value is the numpy array to feed to it.\n",
    "        feed_dict = {tf_train_dataset : batch_data, tf_train_labels : batch_labels, pkeep : 0.5}\n",
    "        _, l, predictions = session.run([optimizer, loss, train_prediction], feed_dict=feed_dict)\n",
    "        if (step % 500 == 0):\n",
    "            print(\"Minibatch loss at step {}: {}\".format(step, l))\n",
    "            print(\"Minibatch accuracy: {:.1f}\".format(accuracy(predictions, batch_labels)))\n",
    "            print(\"Validation accuracy: {:.1f}\".format(accuracy(valid_prediction.eval(), valid_labels)))\n",
    "    print(\"Test accuracy: {:.1f}\".format(accuracy(test_prediction.eval(), test_labels)))"
   ]
  },
  {
   "cell_type": "code",
   "execution_count": null,
   "metadata": {},
   "outputs": [],
   "source": []
  }
 ],
 "metadata": {
  "colab": {
   "default_view": {},
   "name": "3_regularization.ipynb",
   "provenance": [],
   "version": "0.3.2",
   "views": {}
  },
  "kernelspec": {
   "display_name": "Python 3",
   "language": "python",
   "name": "python3"
  },
  "language_info": {
   "codemirror_mode": {
    "name": "ipython",
    "version": 3
   },
   "file_extension": ".py",
   "mimetype": "text/x-python",
   "name": "python",
   "nbconvert_exporter": "python",
   "pygments_lexer": "ipython3",
   "version": "3.5.2"
  }
 },
 "nbformat": 4,
 "nbformat_minor": 1
}
